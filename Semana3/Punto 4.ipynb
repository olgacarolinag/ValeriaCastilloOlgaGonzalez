{
 "cells": [
  {
   "cell_type": "code",
   "execution_count": 1,
   "id": "6b656e89",
   "metadata": {},
   "outputs": [],
   "source": [
    "import numpy as np\n",
    "import matplotlib.pylab as plt"
   ]
  },
  {
   "cell_type": "code",
   "execution_count": 2,
   "id": "19a4f949",
   "metadata": {},
   "outputs": [],
   "source": [
    "derivaditas = np.loadtxt(\"Derivaditas.dat\")\n",
    "\n",
    "x = derivaditas[:,0]\n",
    "dx = derivaditas[:,1]"
   ]
  },
  {
   "cell_type": "code",
   "execution_count": 3,
   "id": "695b2e96",
   "metadata": {},
   "outputs": [
    {
     "data": {
      "image/png": "[encoded data removed]",
      "text/plain": [
       "<Figure size 432x288 with 1 Axes>"
      ]
     },
     "metadata": {
      "needs_background": "light"
     },
     "output_type": "display_data"
    }
   ],
   "source": [
    "plt.scatter(x,dx, color = \"chartreuse\")\n",
    "plt.xlabel(\"X\")\n",
    "plt.ylabel(\"dX\")\n",
    "\n",
    "plt.show()"
   ]
  },
  {
   "cell_type": "code",
   "execution_count": null,
   "id": "28355fb3",
   "metadata": {},
   "outputs": [],
   "source": []
  }
 ],
 "metadata": {
  "kernelspec": {
   "display_name": "Python 3 (ipykernel)",
   "language": "python",
   "name": "python3"
  },
  "language_info": {
   "codemirror_mode": {
    "name": "ipython",
    "version": 3
   },
   "file_extension": ".py",
   "mimetype": "text/x-python",
   "name": "python",
   "nbconvert_exporter": "python",
   "pygments_lexer": "ipython3",
   "version": "3.9.7"
  }
 },
 "nbformat": 4,
 "nbformat_minor": 5
}

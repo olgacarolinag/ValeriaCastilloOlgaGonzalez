{
 "cells": [
  {
   "cell_type": "code",
   "execution_count": 2,
   "metadata": {},
   "outputs": [],
   "source": [
    "import numpy as np\n",
    "import sympy as sym"
   ]
  },
  {
   "cell_type": "markdown",
   "metadata": {},
   "source": [
    "# Punto 4: Coeficientes  multipaso\n"
   ]
  },
  {
   "cell_type": "markdown",
   "metadata": {},
   "source": [
    "# Adams Bashfort"
   ]
  },
  {
   "cell_type": "code",
   "execution_count": 11,
   "metadata": {},
   "outputs": [],
   "source": [
    "t = sym.Symbol('t',Real=True)\n",
    "h = sym.Symbol('h',Real=True)"
   ]
  },
  {
   "cell_type": "code",
   "execution_count": 14,
   "metadata": {},
   "outputs": [
    {
     "name": "stdout",
     "output_type": "stream",
     "text": [
      "23*h/12 -4*h/3 5*h/12\n"
     ]
    }
   ],
   "source": [
    "#Para 3 puntos\n",
    "\n",
    "B31 = (t-(-h))*(t-(-2*h))/(2*h**2)\n",
    "B32 = -(t-(0))*(t-(-2*h))/(h**2)\n",
    "B33 = (t-(-h))*(t-(0))/(2*h**2)\n",
    "\n",
    "CB31 = sym.integrate(B31, (t,0,h))\n",
    "CB32 = sym.integrate(B32, (t,0,h))\n",
    "CB33 = sym.integrate(B33, (t,0,h))\n",
    "print(CB31, CB32, CB33)"
   ]
  },
  {
   "cell_type": "code",
   "execution_count": 17,
   "metadata": {},
   "outputs": [
    {
     "name": "stdout",
     "output_type": "stream",
     "text": [
      "55*h/24 -59*h/24 37*h/24 -3*h/8\n"
     ]
    }
   ],
   "source": [
    "#Para 4 puntos\n",
    "\n",
    "B41 = (t-(-h))*(t-(-2*h))*(t-(-3*h))/(6*h**3)\n",
    "B42 = -(t-(0))*(t-(-2*h))*(t-(-3*h))/(2*h**3)\n",
    "B43 = (t-(-h))*(t-(0))*(t-(-3*h))/(2*h**3)\n",
    "B44 = -(t-(0))*(t-(-h))*(t-(-2*h))/(6*h**3)\n",
    "\n",
    "CB41 = sym.integrate(B41, (t,0,h))\n",
    "CB42 = sym.integrate(B42, (t,0,h))\n",
    "CB43 = sym.integrate(B43, (t,0,h))\n",
    "CB44 = sym.integrate(B44, (t,0,h))\n",
    "print(CB41, CB42, CB43, CB44)"
   ]
  },
  {
   "cell_type": "markdown",
   "metadata": {},
   "source": [
    "# Adams Multon"
   ]
  },
  {
   "cell_type": "code",
   "execution_count": 19,
   "metadata": {},
   "outputs": [
    {
     "name": "stdout",
     "output_type": "stream",
     "text": [
      "5*h/12 2*h/3 -h/12\n"
     ]
    }
   ],
   "source": [
    "M31 = (t-(h))*(t-(2*h))/(2*h**2)\n",
    "M32 = -(t-(0))*(t-(2*h))/(h**2)\n",
    "M33 = (t-(h))*(t-(0))/(2*h**2)\n",
    "\n",
    "CM31 = sym.integrate(M31, (t,0,h))\n",
    "CM32 = sym.integrate(M32, (t,0,h))\n",
    "CM33 = sym.integrate(M33, (t,0,h))\n",
    "print(CM31, CM32, CM33)"
   ]
  },
  {
   "cell_type": "code",
   "execution_count": 23,
   "metadata": {},
   "outputs": [
    {
     "name": "stdout",
     "output_type": "stream",
     "text": [
      "3*h/8 19*h/24 -5*h/24 h/24\n"
     ]
    }
   ],
   "source": [
    "#Para 4 puntos\n",
    "\n",
    "M41 = -(t-(h))*(t-(2*h))*(t-(3*h))/(6*h**3)\n",
    "M42 = (t-(0))*(t-(2*h))*(t-(3*h))/(2*h**3)\n",
    "M43 = -(t-(h))*(t-(0))*(t-(3*h))/(2*h**3)\n",
    "M44 = (t-(0))*(t-(h))*(t-(2*h))/(6*h**3)\n",
    "\n",
    "CM41 = sym.integrate(M41, (t,0,h))\n",
    "CM42 = sym.integrate(M42, (t,0,h))\n",
    "CM43 = sym.integrate(M43, (t,0,h))\n",
    "CM44 = sym.integrate(M44, (t,0,h))\n",
    "print(CM41, CM42, CM43, CM44)"
   ]
  },
  {
   "cell_type": "code",
   "execution_count": null,
   "metadata": {},
   "outputs": [],
   "source": []
  }
 ],
 "metadata": {
  "kernelspec": {
   "display_name": "Python 3",
   "language": "python",
   "name": "python3"
  },
  "language_info": {
   "codemirror_mode": {
    "name": "ipython",
    "version": 3
   },
   "file_extension": ".py",
   "mimetype": "text/x-python",
   "name": "python",
   "nbconvert_exporter": "python",
   "pygments_lexer": "ipython3",
   "version": "3.7.4"
  }
 },
 "nbformat": 4,
 "nbformat_minor": 2
}
